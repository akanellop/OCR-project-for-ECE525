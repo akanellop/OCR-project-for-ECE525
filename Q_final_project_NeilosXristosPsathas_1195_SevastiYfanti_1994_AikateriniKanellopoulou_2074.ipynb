{
 "cells": [
  {
   "cell_type": "markdown",
   "metadata": {
    "slideshow": {
     "slide_type": "slide"
    }
   },
   "source": [
    "# ΠΕΡΙΒΑΛΛΟΝΤΑ ΕΠΙΛΥΣΗΣ ΠΡΟΒΛΗΜΑΤΩΝ\n",
    "# ΤΕΛΙΚΗ ΕΡΓΑΣΙΑ : ΟΜΑΔΑ Q"
   ]
  },
  {
   "cell_type": "markdown",
   "metadata": {
    "slideshow": {
     "slide_type": "slide"
    }
   },
   "source": [
    "# ΑΝΑΓΝΩΡΙΣΗ ΧΕΙΡΟΓΡΑΦΩΝ ΨΗΨΙΩΝ\n",
    "## ΜΕ ΜΕΘΟΔΟΥΣ CLASSIFICATION"
   ]
  },
  {
   "cell_type": "markdown",
   "metadata": {
    "slideshow": {
     "slide_type": "slide"
    }
   },
   "source": [
    "# ---------"
   ]
  },
  {
   "cell_type": "markdown",
   "metadata": {
    "collapsed": true,
    "slideshow": {
     "slide_type": "slide"
    }
   },
   "source": [
    "## The MNIST Dataset\n",
    "\n",
    "Το dataset MNIST είναι ένα από τα πιό μελετημένα  datasets στον χώρο των υπολογιστών και του machine learning.\n",
    "Περιέχει πληροφόρια για το πως αποτυπώνεται ενα πλήθος χειρόγραφων ψηφίων σε μορφή ψηφιακής εικόνας.\n",
    "Σε πολλές περιπτώσεις αποτελεί σημείο αναφοράς, μια σταθερά σύμφωνα με την οποία οι αλγόριθμοι εκμάθησης μηχανής \n",
    "κατατάσσονται.\n",
    "\n",
    "Κάθε διάνυσμα έχει 784 στοιχεία. που αντιστοιχούν σε 28 x 28 grayscale pixel μιας εικόνας.\n",
    "Τα pixel αυτά είναι άγνωστοι ακέραιοι αριθμοί, που εμπίπτουν στην περιοχή [0, 255].\n",
    "Τα ψηφία τοποθετούνται σε μαύρο φόντο, με το προσκήνιο να είναι λευκό και αποχρώσεις του γκρι.\n",
    "\n",
    "Περιέχει 60.000 εικονες training και 10.000 εικόνες test.\n",
    "\n",
    "Η επιλογή αυτών των δεδομένων έγινε λόγω του ότι μερικοί ερευνητές έχουν επιτύχει \"πλησιέστερες επιδόσεις στον άνθρωπο\" στη βάση δεδομένων MNIST, χρησιμοποιώντας μια επιτροπή νευρωνικών δικτύων. Στο ίδιο paper, οι συγγραφείς έχουν πετύχει απόδοση διπλάσια από αυτή των ανθρώπων σε άλλα καθήκοντα αναγνώρισης. Το υψηλότερο ποσοστό σφάλματος που αναγράφεται στον αρχικό ιστότοπο της βάσης δεδομένων είναι 12% , το οποίο επιτυγχάνεται χρησιμοποιώντας linear classifier χωρίς προεπεξεργασία."
   ]
  },
  {
   "cell_type": "code",
   "execution_count": 1,
   "metadata": {
    "collapsed": true,
    "slideshow": {
     "slide_type": "slide"
    }
   },
   "outputs": [],
   "source": [
    "import numpy as np\n",
    "import pandas as pd\n",
    "import datetime as dt"
   ]
  },
  {
   "cell_type": "code",
   "execution_count": 2,
   "metadata": {
    "collapsed": true,
    "slideshow": {
     "slide_type": "slide"
    }
   },
   "outputs": [],
   "source": [
    "#διαβαζουμε και χωρίζουμε τις τιμές\n",
    "data_train = pd.read_csv(\"data/mnist_train.csv\", header = None)\n",
    "data_test = pd.read_csv(\"data/mnist_test.csv\", header = None) \n",
    "\n",
    "#y[i] αντιστοιχει το label του ψηφιου i  \n",
    "#X[i][j] αντιστοιχει στη φωτεινοτητα καθε pixel j για το ψηφιο i  \n",
    "df = data_train.values\n",
    "y = df[: , 0]\n",
    "X = df[: , 1:]\n",
    "\n",
    "#τα διανυσματα  X_test, y_test περιέχουν αντίστοιχη πληροφορια αλλα απο αποτελουν το συνολο δοκιμης και επαληθευσης\n",
    "dftest= data_test.values\n",
    "X_test = dftest[:,1:]\n",
    "y_test =dftest[:,0]"
   ]
  },
  {
   "cell_type": "markdown",
   "metadata": {
    "slideshow": {
     "slide_type": "slide"
    }
   },
   "source": [
    "Το data_train είναι dataframe, το οποιο περιέχει δείγματα χειρόγραφων ψηφίων. Η πρώτη στήλη δίνει πληροφορία για το label (για ποιο ψηφίο μιλάμε) και οι υπόλοιπες στήλες για τη φωτεινότητα των pixel στην αντίστοιχη εικόνα. "
   ]
  },
  {
   "cell_type": "code",
   "execution_count": 3,
   "metadata": {
    "slideshow": {
     "slide_type": "slide"
    }
   },
   "outputs": [
    {
     "data": {
      "text/html": [
       "<div>\n",
       "<style scoped>\n",
       "    .dataframe tbody tr th:only-of-type {\n",
       "        vertical-align: middle;\n",
       "    }\n",
       "\n",
       "    .dataframe tbody tr th {\n",
       "        vertical-align: top;\n",
       "    }\n",
       "\n",
       "    .dataframe thead th {\n",
       "        text-align: right;\n",
       "    }\n",
       "</style>\n",
       "<table border=\"1\" class=\"dataframe\">\n",
       "  <thead>\n",
       "    <tr style=\"text-align: right;\">\n",
       "      <th></th>\n",
       "      <th>0</th>\n",
       "      <th>1</th>\n",
       "      <th>2</th>\n",
       "      <th>3</th>\n",
       "      <th>4</th>\n",
       "      <th>5</th>\n",
       "      <th>6</th>\n",
       "      <th>7</th>\n",
       "      <th>8</th>\n",
       "      <th>9</th>\n",
       "      <th>...</th>\n",
       "      <th>775</th>\n",
       "      <th>776</th>\n",
       "      <th>777</th>\n",
       "      <th>778</th>\n",
       "      <th>779</th>\n",
       "      <th>780</th>\n",
       "      <th>781</th>\n",
       "      <th>782</th>\n",
       "      <th>783</th>\n",
       "      <th>784</th>\n",
       "    </tr>\n",
       "  </thead>\n",
       "  <tbody>\n",
       "    <tr>\n",
       "      <th>0</th>\n",
       "      <td>5</td>\n",
       "      <td>0</td>\n",
       "      <td>0</td>\n",
       "      <td>0</td>\n",
       "      <td>0</td>\n",
       "      <td>0</td>\n",
       "      <td>0</td>\n",
       "      <td>0</td>\n",
       "      <td>0</td>\n",
       "      <td>0</td>\n",
       "      <td>...</td>\n",
       "      <td>0</td>\n",
       "      <td>0</td>\n",
       "      <td>0</td>\n",
       "      <td>0</td>\n",
       "      <td>0</td>\n",
       "      <td>0</td>\n",
       "      <td>0</td>\n",
       "      <td>0</td>\n",
       "      <td>0</td>\n",
       "      <td>0</td>\n",
       "    </tr>\n",
       "    <tr>\n",
       "      <th>1</th>\n",
       "      <td>0</td>\n",
       "      <td>0</td>\n",
       "      <td>0</td>\n",
       "      <td>0</td>\n",
       "      <td>0</td>\n",
       "      <td>0</td>\n",
       "      <td>0</td>\n",
       "      <td>0</td>\n",
       "      <td>0</td>\n",
       "      <td>0</td>\n",
       "      <td>...</td>\n",
       "      <td>0</td>\n",
       "      <td>0</td>\n",
       "      <td>0</td>\n",
       "      <td>0</td>\n",
       "      <td>0</td>\n",
       "      <td>0</td>\n",
       "      <td>0</td>\n",
       "      <td>0</td>\n",
       "      <td>0</td>\n",
       "      <td>0</td>\n",
       "    </tr>\n",
       "    <tr>\n",
       "      <th>2</th>\n",
       "      <td>4</td>\n",
       "      <td>0</td>\n",
       "      <td>0</td>\n",
       "      <td>0</td>\n",
       "      <td>0</td>\n",
       "      <td>0</td>\n",
       "      <td>0</td>\n",
       "      <td>0</td>\n",
       "      <td>0</td>\n",
       "      <td>0</td>\n",
       "      <td>...</td>\n",
       "      <td>0</td>\n",
       "      <td>0</td>\n",
       "      <td>0</td>\n",
       "      <td>0</td>\n",
       "      <td>0</td>\n",
       "      <td>0</td>\n",
       "      <td>0</td>\n",
       "      <td>0</td>\n",
       "      <td>0</td>\n",
       "      <td>0</td>\n",
       "    </tr>\n",
       "    <tr>\n",
       "      <th>3</th>\n",
       "      <td>1</td>\n",
       "      <td>0</td>\n",
       "      <td>0</td>\n",
       "      <td>0</td>\n",
       "      <td>0</td>\n",
       "      <td>0</td>\n",
       "      <td>0</td>\n",
       "      <td>0</td>\n",
       "      <td>0</td>\n",
       "      <td>0</td>\n",
       "      <td>...</td>\n",
       "      <td>0</td>\n",
       "      <td>0</td>\n",
       "      <td>0</td>\n",
       "      <td>0</td>\n",
       "      <td>0</td>\n",
       "      <td>0</td>\n",
       "      <td>0</td>\n",
       "      <td>0</td>\n",
       "      <td>0</td>\n",
       "      <td>0</td>\n",
       "    </tr>\n",
       "    <tr>\n",
       "      <th>4</th>\n",
       "      <td>9</td>\n",
       "      <td>0</td>\n",
       "      <td>0</td>\n",
       "      <td>0</td>\n",
       "      <td>0</td>\n",
       "      <td>0</td>\n",
       "      <td>0</td>\n",
       "      <td>0</td>\n",
       "      <td>0</td>\n",
       "      <td>0</td>\n",
       "      <td>...</td>\n",
       "      <td>0</td>\n",
       "      <td>0</td>\n",
       "      <td>0</td>\n",
       "      <td>0</td>\n",
       "      <td>0</td>\n",
       "      <td>0</td>\n",
       "      <td>0</td>\n",
       "      <td>0</td>\n",
       "      <td>0</td>\n",
       "      <td>0</td>\n",
       "    </tr>\n",
       "  </tbody>\n",
       "</table>\n",
       "<p>5 rows × 785 columns</p>\n",
       "</div>"
      ],
      "text/plain": [
       "   0    1    2    3    4    5    6    7    8    9   ...   775  776  777  778  \\\n",
       "0    5    0    0    0    0    0    0    0    0    0 ...     0    0    0    0   \n",
       "1    0    0    0    0    0    0    0    0    0    0 ...     0    0    0    0   \n",
       "2    4    0    0    0    0    0    0    0    0    0 ...     0    0    0    0   \n",
       "3    1    0    0    0    0    0    0    0    0    0 ...     0    0    0    0   \n",
       "4    9    0    0    0    0    0    0    0    0    0 ...     0    0    0    0   \n",
       "\n",
       "   779  780  781  782  783  784  \n",
       "0    0    0    0    0    0    0  \n",
       "1    0    0    0    0    0    0  \n",
       "2    0    0    0    0    0    0  \n",
       "3    0    0    0    0    0    0  \n",
       "4    0    0    0    0    0    0  \n",
       "\n",
       "[5 rows x 785 columns]"
      ]
     },
     "execution_count": 3,
     "metadata": {},
     "output_type": "execute_result"
    }
   ],
   "source": [
    "data_train.head()"
   ]
  },
  {
   "cell_type": "markdown",
   "metadata": {
    "slideshow": {
     "slide_type": "slide"
    }
   },
   "source": [
    "# ---------"
   ]
  },
  {
   "cell_type": "markdown",
   "metadata": {
    "slideshow": {
     "slide_type": "slide"
    }
   },
   "source": [
    "## ΤΡΟΠΟΣ ΕΡΓΑΣΙΑΣ ΚΑΙ ΜΕΛΕΤΗΣ"
   ]
  },
  {
   "cell_type": "markdown",
   "metadata": {
    "slideshow": {
     "slide_type": "slide"
    }
   },
   "source": [
    "Θα εφαρμόσουμε ενα πλήθος classification μεθόδων ώστε  να βρούμε την πιο κατάλληλη μέθοδο για μια OCR(optical character recognition) εφαρμογή βασισμένη σε αυτό το dataset. \n",
    "Θα χρησιμοποιήσουμε την βιβλιοθήκες tensorflow και sklearn για να ελέγξουμε 5 μεθόδους classification, την ακρίβεια των προβλέψεων και τον χρόνο εκτέλεσης τους.\n",
    "\n",
    "Μέτρο ακρίβειας / αξιολόγησης : confusion matrix  \n",
    "Μέτρο ταχύτητας : time measurements from standard python datetime module"
   ]
  },
  {
   "cell_type": "markdown",
   "metadata": {
    "slideshow": {
     "slide_type": "slide"
    }
   },
   "source": [
    "### Confusion Matrix\n",
    "\n",
    "Πρόκειται για έναν πίνακα που χρησιμοποιείται για την ευρέση της ακρίβειας σε μεθόδους classification όταν οι  αληθίνες τιμές των test values είναι γνωστές. \n",
    "Βλέπουμε τι πιθανότητα υπάρχει να καταταγεί το καθε στοιχείο σε κάθε κλάση."
   ]
  },
  {
   "cell_type": "markdown",
   "metadata": {
    "slideshow": {
     "slide_type": "slide"
    }
   },
   "source": [
    "# ---------"
   ]
  },
  {
   "cell_type": "markdown",
   "metadata": {
    "slideshow": {
     "slide_type": "slide"
    }
   },
   "source": [
    "## 1) DECISION TREE CLASSIFIER\n",
    "Μέθοδος της sklearn, oρίζουμε ως παράμετρο το maxdepth, καθορίζεται από το gini index.\n",
    "Δημιουργεί ενα δέντρο όπου χρησιμοποιεί τις παρατηρήσεις ως κλαδιά διαχωρισμού για να φτάσει σε συμπεράσμα οπως η κλάση του αντικειμένου στα φύλλα του, στο maxdepth.\n",
    "\n",
    "Gini impurity\n",
    "είναι ο όρος που χρησιμοποιεί η μέθοδος για να δει πόσο αποτελεσματικό ειναι το δέντρο που έφτιαξε. Συγκεκριμένα μετράει πόσο συχνά ένας τυχαία διαλεγμένος αριθμός θα πάρει λάθος label.\n",
    "Υπολογίζεται απο το άθροισμα της πιθανότητας  ${\\displaystyle p_{i}} p_{i}$ ενος αντικειμένου με label ${\\displaystyle i}$  να επιλεχθει επί την πιθανότητα ${\\displaystyle \\sum _{k\\neq i}p_{k}=1-p_{i}} $ ενός λάθους στν κατηγοριοποίηση αυτού του στοιχείου. Θέλουμε να τείνει στο 0 δηλαδή να μην υπάρχει λάθος στην κατηγοριοποίηση κανενός.\n"
   ]
  },
  {
   "cell_type": "code",
   "execution_count": 4,
   "metadata": {
    "collapsed": true,
    "slideshow": {
     "slide_type": "slide"
    }
   },
   "outputs": [],
   "source": [
    "from sklearn import tree"
   ]
  },
  {
   "cell_type": "code",
   "execution_count": 5,
   "metadata": {
    "slideshow": {
     "slide_type": "slide"
    }
   },
   "outputs": [
    {
     "name": "stdout",
     "output_type": "stream",
     "text": [
      "Start learning at 2018-01-25 22:55:38.374089\n",
      "Stop learning 2018-01-25 22:55:49.483464\n",
      "Elapsed learning 0:00:11.109375\n"
     ]
    }
   ],
   "source": [
    "# δημιουργια μοντελου, επαναλαμβανομες προσπαθειες για την ευρεση καλυτερου maxdepth\n",
    "treeclf = tree.DecisionTreeClassifier(max_depth=15, random_state=1)\n",
    "\n",
    "#Ξεκινάμε να μαθαίνουμε για τα ψηφία την χρονική στιγμή\n",
    "start_time = dt.datetime.now()\n",
    "print('Start learning at {}'.format(str(start_time)))\n",
    "\n",
    "treeclf.fit(X, y)\n",
    "\n",
    "end_time = dt.datetime.now() \n",
    "print('Stop learning {}'.format(str(end_time)))\n",
    "elapsed_time= end_time - start_time\n",
    "print('Elapsed learning {}'.format(str(elapsed_time)))"
   ]
  },
  {
   "cell_type": "markdown",
   "metadata": {
    "slideshow": {
     "slide_type": "slide"
    }
   },
   "source": [
    "### Measuring response time performance\n",
    "Πριν και μετά την εφαρμογή του κάθε μοντέλου στο train set σημειώνουμε την χρονική στιγμή. Με αυτόν τον τρόπο μπορούμε να υπολογίσουμε τον χρόνο που απαιτείται για τον υπολογισμό του."
   ]
  },
  {
   "cell_type": "code",
   "execution_count": 6,
   "metadata": {
    "collapsed": true,
    "slideshow": {
     "slide_type": "slide"
    }
   },
   "outputs": [],
   "source": [
    "#χρησιμοποιω μοντελο για προβλεψη\n",
    "y_pred = treeclf.predict(X_test)"
   ]
  },
  {
   "cell_type": "markdown",
   "metadata": {
    "slideshow": {
     "slide_type": "slide"
    }
   },
   "source": [
    "### Measuring Model Performance\n",
    "Ακρίβεια (accuracy): το κλάσμα των σωστών κατηγοριοποιήσεων δια το πλήθος των στοιχείων.\n",
    "Πόσο ικανοποιητικό είναι το μοντέλο."
   ]
  },
  {
   "cell_type": "code",
   "execution_count": 8,
   "metadata": {
    "slideshow": {
     "slide_type": "slide"
    }
   },
   "outputs": [
    {
     "data": {
      "text/plain": [
       "0.88329999999999997"
      ]
     },
     "execution_count": 8,
     "metadata": {},
     "output_type": "execute_result"
    }
   ],
   "source": [
    "#μετρημένη ακριβεια απο sklearn βιβλιοθηκη\n",
    "score = treeclf.score(X_test,y_test)\n",
    "score"
   ]
  },
  {
   "cell_type": "markdown",
   "metadata": {
    "slideshow": {
     "slide_type": "slide"
    }
   },
   "source": [
    "Θα χρειαστούμε ένα ποσοστό για να δούμε ποια από τις μεθόδους classification θα μας δώσει καλύτερα αποτελέσματα."
   ]
  },
  {
   "cell_type": "code",
   "execution_count": 9,
   "metadata": {
    "slideshow": {
     "slide_type": "slide"
    }
   },
   "outputs": [
    {
     "name": "stdout",
     "output_type": "stream",
     "text": [
      "88.33 % accuracy στα αποτελεσματα μας\n"
     ]
    }
   ],
   "source": [
    "#γενικη μεθοδος ευρεσης\n",
    "count = 0\n",
    "for i in range(0, y_pred.size):\n",
    "    if y_pred[i]==y_test[i]:\n",
    "        count= count +1\n",
    "\n",
    "accuracy = count / y_pred.size\n",
    "print(accuracy*100 , \"% accuracy στα αποτελεσματα μας\")"
   ]
  },
  {
   "cell_type": "markdown",
   "metadata": {
    "slideshow": {
     "slide_type": "slide"
    }
   },
   "source": [
    "Καταλήξαμε σε maxdepth = 15 μετά από επαναλμβανόμενους πειραματισμούς, πχ για madepth= 5 έχω accuracy 67,7%\n",
    "ενώ για για madepth = 30 έχω accuracy 87,7%"
   ]
  },
  {
   "cell_type": "markdown",
   "metadata": {
    "slideshow": {
     "slide_type": "slide"
    }
   },
   "source": [
    "### Confusion Matrix"
   ]
  },
  {
   "cell_type": "code",
   "execution_count": 10,
   "metadata": {
    "collapsed": true,
    "slideshow": {
     "slide_type": "slide"
    }
   },
   "outputs": [],
   "source": [
    "import matplotlib.pyplot as plt\n",
    "# Used for Confusion Matrix\n",
    "from sklearn import metrics\n",
    "import seaborn as sns\n",
    "%matplotlib inline"
   ]
  },
  {
   "cell_type": "code",
   "execution_count": 11,
   "metadata": {
    "collapsed": true,
    "slideshow": {
     "slide_type": "slide"
    }
   },
   "outputs": [],
   "source": [
    "cm = metrics.confusion_matrix(y_test, y_pred)\n",
    "cm_normalized = cm.astype('float') / cm.sum(axis=1)[:, np.newaxis]"
   ]
  },
  {
   "cell_type": "code",
   "execution_count": 12,
   "metadata": {
    "slideshow": {
     "slide_type": "slide"
    }
   },
   "outputs": [
    {
     "data": {
      "text/plain": [
       "Text(0.5,1,'Accuracy Score: 0.883')"
      ]
     },
     "execution_count": 12,
     "metadata": {},
     "output_type": "execute_result"
    },
    {
     "data": {
      "image/png": "[encoded data removed]",
      "text/plain": [
       "<matplotlib.figure.Figure at 0xa37ba90>"
      ]
     },
     "metadata": {},
     "output_type": "display_data"
    }
   ],
   "source": [
    "plt.figure(figsize=(9,9))\n",
    "sns.heatmap(cm_normalized, annot=True, fmt=\".3f\", linewidths=.5, square = True, cmap = 'Blues_r')\n",
    "plt.ylabel('Actual label')\n",
    "plt.xlabel('Predicted label')\n",
    "all_sample_title = 'Accuracy Score: {:.3f}'.format(score) \n",
    "plt.title(all_sample_title, size = 15)"
   ]
  },
  {
   "cell_type": "markdown",
   "metadata": {
    "slideshow": {
     "slide_type": "slide"
    }
   },
   "source": [
    "# ---------"
   ]
  },
  {
   "cell_type": "markdown",
   "metadata": {
    "slideshow": {
     "slide_type": "slide"
    }
   },
   "source": [
    "## 2) RANDOM FORESTS\n",
    "Πρόκειται για μια μέθοδο συγχώνευσης όπου δημιουργείται ενα συγχωνευμένο πλήθος από classification decision trees το οποίο έχει αντίστοιχο αποτέλεσμα με έκαστο tree.\n",
    "\n",
    "O αλγόριθμος τρέχει σύμφωνα με τοTree bagging:\n",
    "\n",
    "Δοσμένου ενός training set X = x1, ..., xn \n",
    "με Y = y1, ..., yn αποτελέσματα, ο bagging αλγόριθμος διαλέγει επαναλαμβανόμενα ένα τυχαίο δείγμα απο το training set και εφαρμόζει πάνω σε αυτό ένα μοντέλο classification tree, έτσι έχει διαφορετικά fitted μοντέλα από διαφορετικό training set.\n",
    "Για το αποτέλεσμα κάθε πρόβλεψης συμψηφίζονται τα αποτελέσματα όλων των δέντρων που χρησιμοποιήθηκαν."
   ]
  },
  {
   "cell_type": "code",
   "execution_count": 13,
   "metadata": {
    "collapsed": true,
    "slideshow": {
     "slide_type": "slide"
    }
   },
   "outputs": [],
   "source": [
    "from sklearn.ensemble import RandomForestClassifier"
   ]
  },
  {
   "cell_type": "code",
   "execution_count": 14,
   "metadata": {
    "scrolled": true,
    "slideshow": {
     "slide_type": "slide"
    }
   },
   "outputs": [
    {
     "name": "stdout",
     "output_type": "stream",
     "text": [
      "Start learning at 2018-01-25 22:59:14.092839\n",
      "Stop learning 2018-01-25 22:59:17.749089\n",
      "Elapsed learning 0:00:03.656250\n"
     ]
    }
   ],
   "source": [
    "#δημιουργια μοντελου, επαναλαμβανομες προσπαθειες για την ευρεση καλυτερου maxdepth\n",
    "rfclf = RandomForestClassifier(max_depth=15, random_state=1)\n",
    "\n",
    "#Ξεκινάμε να μαθαίνουμε για τα ψηφία την χρονική στιγμή\n",
    "start_time = dt.datetime.now()\n",
    "print('Start learning at {}'.format(str(start_time)))\n",
    "\n",
    "rfclf.fit(X, y)\n",
    "\n",
    "end_time = dt.datetime.now() \n",
    "print('Stop learning {}'.format(str(end_time)))\n",
    "elapsed_time= end_time - start_time\n",
    "print('Elapsed learning {}'.format(str(elapsed_time)))"
   ]
  },
  {
   "cell_type": "markdown",
   "metadata": {
    "slideshow": {
     "slide_type": "slide"
    }
   },
   "source": [
    "### Measuring Model Performance"
   ]
  },
  {
   "cell_type": "code",
   "execution_count": 15,
   "metadata": {
    "slideshow": {
     "slide_type": "slide"
    }
   },
   "outputs": [
    {
     "data": {
      "text/plain": [
       "0.94599999999999995"
      ]
     },
     "execution_count": 15,
     "metadata": {},
     "output_type": "execute_result"
    }
   ],
   "source": [
    "#μετρημένη ακριβεια απο sklearn βιβλιοθηκη\n",
    "y_pred=rfclf.predict(X_test)\n",
    "score = rfclf.score(X_test,y_test)\n",
    "score"
   ]
  },
  {
   "cell_type": "code",
   "execution_count": 16,
   "metadata": {
    "slideshow": {
     "slide_type": "slide"
    }
   },
   "outputs": [
    {
     "name": "stdout",
     "output_type": "stream",
     "text": [
      "94.6 % accuracy στα αποτελεσματα μας\n"
     ]
    }
   ],
   "source": [
    "#γενικη μεθοδος ευρεσης\n",
    "count = 0\n",
    "for i in range(0, y_pred.size):\n",
    "    if y_pred[i]==y_test[i]:\n",
    "        count= count +1\n",
    "\n",
    "accuracy = count / y_pred.size\n",
    "print(accuracy*100 , \"% accuracy στα αποτελεσματα μας\")"
   ]
  },
  {
   "cell_type": "markdown",
   "metadata": {
    "slideshow": {
     "slide_type": "slide"
    }
   },
   "source": [
    "### Confusion Matrix"
   ]
  },
  {
   "cell_type": "code",
   "execution_count": 17,
   "metadata": {
    "collapsed": true,
    "slideshow": {
     "slide_type": "slide"
    }
   },
   "outputs": [],
   "source": [
    "cm = metrics.confusion_matrix(y_test, y_pred)\n",
    "cm_normalized = cm.astype('float') / cm.sum(axis=1)[:, np.newaxis]"
   ]
  },
  {
   "cell_type": "code",
   "execution_count": 18,
   "metadata": {
    "slideshow": {
     "slide_type": "slide"
    }
   },
   "outputs": [
    {
     "data": {
      "text/plain": [
       "Text(0.5,1,'Accuracy Score: 0.946')"
      ]
     },
     "execution_count": 18,
     "metadata": {},
     "output_type": "execute_result"
    },
    {
     "data": {
      "image/png": "[encoded data removed]",
      "text/plain": [
       "<matplotlib.figure.Figure at 0xac09080>"
      ]
     },
     "metadata": {},
     "output_type": "display_data"
    }
   ],
   "source": [
    "plt.figure(figsize=(9,9))\n",
    "sns.heatmap(cm_normalized, annot=True, fmt=\".3f\", linewidths=.5, square = True, cmap = 'Blues_r')\n",
    "plt.ylabel('Actual label')\n",
    "plt.xlabel('Predicted label')\n",
    "all_sample_title = 'Accuracy Score: {:.3f}'.format(score) \n",
    "plt.title(all_sample_title, size = 15)"
   ]
  },
  {
   "cell_type": "markdown",
   "metadata": {
    "slideshow": {
     "slide_type": "slide"
    }
   },
   "source": [
    "# ------"
   ]
  },
  {
   "cell_type": "markdown",
   "metadata": {
    "collapsed": true,
    "slideshow": {
     "slide_type": "slide"
    }
   },
   "source": [
    "## 3) LOGISTIC REGRESSION"
   ]
  },
  {
   "cell_type": "markdown",
   "metadata": {
    "slideshow": {
     "slide_type": "slide"
    }
   },
   "source": [
    "Συνήθως η logistic regression μεθοδος προβλεπει τη πιθανοτητα μια εξαρτημενη μεταβλητη y να παρει την τιμη 1 ή 0.\n",
    "\n",
    "Σε ενα πρόβλημα κατηγοριοποιησης με πολλες κλάσεις όπως το δικό μας, θέλουμε ενα μοντελο που να προβλέπει τις πιθανότητες για κάθε διαφορετκό πιθανό αποτελέσμα του εξαρτημένου y σε σχεση με τις ανεξάρτητες μεταβλητές μας.\n",
    "\n",
    "Η  Multinomial logistic regression μέθοδος είναι μια λύση στο πρόβλημα της κατηγοριοποίησης που υποθέτει ότι ο γράμμικος συνδυασμός των χαρακτηριστικών που έχω παρατηρήσει (στην περιπτωσή μας η φωτεινότητα των pixel) ,και γενικότερα κάποιων παραμέτρων σχετικών με το πρόβλημα, μπόρει να χρησιμοποιηθει για να αποφασίσουμε την πιθανότητα το y (η εξαρτημενη μεταβλητη μας) να ανήκει σε κάθε μια κατηγορία ξεχωριστά\n",
    "\n",
    "Για τυχαια κλάση k θα χρησιμοποιησω την γραμμικη συναρτηση προβλεψης $f(k,i)=\\beta _{0,k}+\\beta _{1,k}x_{1,i}+\\beta _{2,k}x_{2,i}+\\cdots +\\beta _{M,k}x_{M,i}$, ωστε να δω τη πιθανοτητα το στοιχειο μου να ανηκει σαυτην την κλαση.\n",
    "Με τους ίδιους συντελεστες ${\\displaystyle \\beta _{m,k}} $ θα υπολογισω τις πιθανοτητες για τις υπολοιπες κλασεις.\n",
    "Οι συντελεστες ειναι παραγωγο των δοσμενων χαρακτηριστικων."
   ]
  },
  {
   "cell_type": "code",
   "execution_count": 19,
   "metadata": {
    "collapsed": true,
    "slideshow": {
     "slide_type": "slide"
    }
   },
   "outputs": [],
   "source": [
    "from sklearn.linear_model import LogisticRegression"
   ]
  },
  {
   "cell_type": "code",
   "execution_count": 20,
   "metadata": {
    "collapsed": true,
    "slideshow": {
     "slide_type": "slide"
    }
   },
   "outputs": [],
   "source": [
    "#Make an instance of the Model\n",
    "\n",
    "# all parameters not specified are set to their defaults\n",
    "# default solver is incredibly slow thats why we change it\n",
    "logisticRegr = LogisticRegression(solver = 'lbfgs')"
   ]
  },
  {
   "cell_type": "code",
   "execution_count": 21,
   "metadata": {
    "slideshow": {
     "slide_type": "slide"
    }
   },
   "outputs": [
    {
     "name": "stdout",
     "output_type": "stream",
     "text": [
      "Start learning at 2018-01-25 23:01:54.014714\n",
      "Stop learning 2018-01-25 23:02:54.686589\n",
      "Elapsed learning 0:01:00.671875\n"
     ]
    }
   ],
   "source": [
    "#Ξεκινάμε να μαθαίνουμε για τα ψηφία την χρονική στιγμή\n",
    "start_time = dt.datetime.now()\n",
    "print('Start learning at {}'.format(str(start_time)))\n",
    "\n",
    "logisticRegr.fit(X, y)\n",
    "\n",
    "end_time = dt.datetime.now() \n",
    "print('Stop learning {}'.format(str(end_time)))\n",
    "elapsed_time= end_time - start_time\n",
    "print('Elapsed learning {}'.format(str(elapsed_time)))"
   ]
  },
  {
   "cell_type": "code",
   "execution_count": 22,
   "metadata": {
    "slideshow": {
     "slide_type": "slide"
    }
   },
   "outputs": [
    {
     "data": {
      "text/plain": [
       "array([7, 2, 1, ..., 4, 5, 6], dtype=int64)"
      ]
     },
     "execution_count": 22,
     "metadata": {},
     "output_type": "execute_result"
    }
   ],
   "source": [
    "X_test = dftest[:,1:]\n",
    "y_test =dftest[:,0]\n",
    "# Returns a NumPy Array\n",
    "# Predict for Multiple Observations (images) at Once\n",
    "y_pred = logisticRegr.predict(X_test) \n",
    "y_pred"
   ]
  },
  {
   "cell_type": "markdown",
   "metadata": {
    "slideshow": {
     "slide_type": "slide"
    }
   },
   "source": [
    "\n",
    "### Measuring Model Performance\n",
    "accuracy (fraction of correct predictions): correct predictions / total number of data points\n",
    "Basically, how the model performs on new data (test set)"
   ]
  },
  {
   "cell_type": "code",
   "execution_count": 23,
   "metadata": {
    "slideshow": {
     "slide_type": "slide"
    }
   },
   "outputs": [
    {
     "name": "stdout",
     "output_type": "stream",
     "text": [
      "0.9173\n"
     ]
    }
   ],
   "source": [
    "score = logisticRegr.score(X_test, y_test) # στο score πρεπει να βαλουμε το ytest? ή το predicted?? \n",
    "print(score)"
   ]
  },
  {
   "cell_type": "code",
   "execution_count": 24,
   "metadata": {
    "slideshow": {
     "slide_type": "slide"
    }
   },
   "outputs": [
    {
     "name": "stdout",
     "output_type": "stream",
     "text": [
      "91.73 % accuracy στα αποτελεσματα μας\n"
     ]
    }
   ],
   "source": [
    "count = 0\n",
    "for i in range(0, y_pred.size):\n",
    "    if y_pred[i]==y_test[i]:\n",
    "        count= count +1\n",
    "\n",
    "accuracy = count / y_pred.size\n",
    "print(accuracy*100 , \"% accuracy στα αποτελεσματα μας\")"
   ]
  },
  {
   "cell_type": "markdown",
   "metadata": {
    "slideshow": {
     "slide_type": "slide"
    }
   },
   "source": [
    "### Confusion Matrix\n"
   ]
  },
  {
   "cell_type": "code",
   "execution_count": 25,
   "metadata": {
    "collapsed": true,
    "slideshow": {
     "slide_type": "slide"
    }
   },
   "outputs": [],
   "source": [
    "cm = metrics.confusion_matrix(y_test, y_pred)\n",
    "cm_normalized = cm.astype('float') / cm.sum(axis=1)[:, np.newaxis]"
   ]
  },
  {
   "cell_type": "code",
   "execution_count": 26,
   "metadata": {
    "slideshow": {
     "slide_type": "slide"
    }
   },
   "outputs": [
    {
     "data": {
      "text/plain": [
       "Text(0.5,1,'Accuracy Score: 0.917')"
      ]
     },
     "execution_count": 26,
     "metadata": {},
     "output_type": "execute_result"
    },
    {
     "data": {
      "image/png": "[encoded data removed]",
      "text/plain": [
       "<matplotlib.figure.Figure at 0xb9d7588>"
      ]
     },
     "metadata": {},
     "output_type": "display_data"
    }
   ],
   "source": [
    "plt.figure(figsize=(9,9))\n",
    "sns.heatmap(cm_normalized, annot=True, fmt=\".3f\", linewidths=.5, square = True, cmap = 'Blues_r')\n",
    "plt.ylabel('Actual label')\n",
    "plt.xlabel('Predicted label')\n",
    "all_sample_title = 'Accuracy Score: {:.3f}'.format(score) \n",
    "plt.title(all_sample_title, size = 15)"
   ]
  },
  {
   "cell_type": "markdown",
   "metadata": {
    "slideshow": {
     "slide_type": "slide"
    }
   },
   "source": [
    "### -----"
   ]
  },
  {
   "cell_type": "markdown",
   "metadata": {
    "collapsed": true,
    "slideshow": {
     "slide_type": "slide"
    }
   },
   "source": [
    "## 4) SUPPORT VECTOR CLASSIFICATION\n",
    "\n",
    "Πρόκειται για μια μέθοδο με πρωταρχική χρήση την διαδική κατηγοριοποίηση αλλά μπορούμε να τη χρησιμοποιήσουμε για πολλές κλάσεις μέσω της svm.SVC μέθοδου της βιβλιοθήκης sklearn της γλώσσας python.\n",
    "\n",
    "H svm μέθοδος στις δυο διαστάσεις βρίσκει ενα διάνυσμα το οποίο έχει την μεγαλύτερη δυνατή απόσταση από τα δυο πιθανά σύνολα. Στις πολλές διαστάσεις όπως το πρόβλημά μας, δημιουργεί ενα υπερεπίπεδο (hyperplane).\n",
    "\n",
    "Η δημιουργία του υπερεπιπέδου μπορεί να γίνει με δύο τρόπους:\n",
    "Α) one versus the rest (υπολογίζει ποια ανήκουν στην πρώτη κλάση σε σχέση με την πληροφορία ολων, έπειτα από τα απομείναντα στοιχεία υπολογίζει ποια ανήκουν στη δεύτερη κλάση σε σχέση με όλα κοκ)\n",
    "B) one vs one (υπολογίζει ενα υπερεπίπεδο για κάθε κλάση ξεχωριστά ,δηλ πως ξεχωρίζει η καθε κλάση από τις υπόλοιπες, και έπειτα συνδυάζει την πληροφορία όλων των υπερεπιπέδων που βρήκε)\n",
    "\n",
    "Στην svm χρησιμοποιείται και το kernel trick δηλ τα δεδομένα μου αποκτούν μια επιπλέον διάσταση στην υπολογιστική τους αναπαράσταση για ευκολότερο διαχωρισμό."
   ]
  },
  {
   "cell_type": "code",
   "execution_count": 27,
   "metadata": {
    "collapsed": true,
    "slideshow": {
     "slide_type": "slide"
    }
   },
   "outputs": [],
   "source": [
    "from sklearn.svm import SVC"
   ]
  },
  {
   "cell_type": "code",
   "execution_count": null,
   "metadata": {
    "slideshow": {
     "slide_type": "slide"
    }
   },
   "outputs": [
    {
     "name": "stdout",
     "output_type": "stream",
     "text": [
      "Start learning at 2018-01-25 22:11:54.374089\n"
     ]
    }
   ],
   "source": [
    "# Create a classifier: a support vector classifier\n",
    "\n",
    "svcclassifier = SVC(probability=False, cache_size=2000, kernel=\"rbf\", C=2.8, \n",
    "                    gamma=.001)\n",
    "# We learn the digits on the first half of the digits\n",
    "\n",
    "#Ξεκινάμε να μαθαίνουμε για τα ψηφία την χρονική στιγμή\n",
    "start_time = dt.datetime.now()\n",
    "print('Start learning at {}'.format(str(start_time)))\n",
    "\n",
    "svcclassifier.fit(X, y)\n",
    "\n",
    "end_time = dt.datetime.now() \n",
    "print('Stop learning {}'.format(str(end_time)))\n",
    "elapsed_time= end_time - start_time\n",
    "print('Elapsed learning {}'.format(str(elapsed_time)))"
   ]
  },
  {
   "cell_type": "code",
   "execution_count": null,
   "metadata": {
    "collapsed": true,
    "slideshow": {
     "slide_type": "slide"
    }
   },
   "outputs": [],
   "source": [
    "# Now predict the value of the digit on the second half:\n",
    "y_pred = svcclassifier.predict(X)\n",
    "\n",
    "print(\"Classification report for classifier %s:\\n%s\\n\"\n",
    "      % (svcclassifier, metrics.classification_report(y, y_pred)))"
   ]
  },
  {
   "cell_type": "markdown",
   "metadata": {
    "slideshow": {
     "slide_type": "slide"
    }
   },
   "source": [
    "### Measuring Model Performance"
   ]
  },
  {
   "cell_type": "code",
   "execution_count": null,
   "metadata": {
    "collapsed": true,
    "slideshow": {
     "slide_type": "slide"
    }
   },
   "outputs": [],
   "source": [
    "count = 0\n",
    "for i in range(0, y_pred.size):\n",
    "    if y_predict[i]==y[i]:\n",
    "        count= count +1\n",
    "\n",
    "accuracy = count / y_pred.size\n",
    "print(accuracy*100 , \"% accuracy στα αποτελεσματα μας\")"
   ]
  },
  {
   "cell_type": "markdown",
   "metadata": {
    "slideshow": {
     "slide_type": "slide"
    }
   },
   "source": [
    "### Confusion Matrix"
   ]
  },
  {
   "cell_type": "code",
   "execution_count": null,
   "metadata": {
    "collapsed": true,
    "slideshow": {
     "slide_type": "slide"
    }
   },
   "outputs": [],
   "source": [
    "cm = metrics.confusion_matrix(y_test, y_pred)\n",
    "cm_normalized = cm.astype('float') / cm.sum(axis=1)[:, np.newaxis]"
   ]
  },
  {
   "cell_type": "code",
   "execution_count": null,
   "metadata": {
    "collapsed": true,
    "slideshow": {
     "slide_type": "slide"
    }
   },
   "outputs": [],
   "source": [
    "plt.figure(figsize=(9,9))\n",
    "sns.heatmap(cm_normalized, annot=True, fmt=\".3f\", linewidths=.5, square = True, cmap = 'Blues_r')\n",
    "plt.ylabel('Actual label')\n",
    "plt.xlabel('Predicted label')\n",
    "all_sample_title = 'Accuracy Score: {:.3f}'.format(accuracy) \n",
    "plt.title(all_sample_title, size = 15)"
   ]
  },
  {
   "cell_type": "markdown",
   "metadata": {
    "slideshow": {
     "slide_type": "slide"
    }
   },
   "source": [
    "## ----"
   ]
  },
  {
   "cell_type": "markdown",
   "metadata": {
    "slideshow": {
     "slide_type": "slide"
    }
   },
   "source": [
    "## 5) SOFTMAX REGRESSION WITH TENSORFLOW"
   ]
  },
  {
   "cell_type": "markdown",
   "metadata": {
    "slideshow": {
     "slide_type": "slide"
    }
   },
   "source": [
    "Όπως υποδηλώνει το όνομα, στην softmax regression (SMR), αντικαθιστούμε τη sigmoid logistic συνάρτηση από τη λεγόμενη συνάρτηση softmax φ: $ P( y = j | z^{(i)} = \\Phi _{sotmax}(z^{(i)}) = \\frac{e^{z^{(i)}}}{\\sum_{j=0}^ke^{z^{(i)}} } $\n",
    "\n",
    "\n",
    "Υπάρχουν μόνο δέκα πιθανά πράγματα που μπορεί να είναι μια δεδομένη εικόνα. Θέλουμε να μπορούμε να δούμε μια εικόνα και να δώσουμε τις πιθανότητες να είναι κάθε ψηφίο. Αυτή είναι μια κλασική περίπτωση όπου το softmax regression είναι ένα φυσικό, απλό μοντέλο.\n",
    "Γενικά, μας δίνει μια λίστα τιμών μεταξύ 0 και 1 που προσθέτουν μέχρι 1. Εχει δύο βήματα πρώτα προσθέτουμε τα στοιχεία της εισροής μας σε ορισμένες κατηγορίες, και στη συνέχεια μετατρέπουμε τα στοιχεία αυτά σε πιθανότητες.\n",
    "Για να συγκεντρώσουμε τα στοιχεία που αποδεικνύουν ότι μια δεδομένη εικόνα είναι σε μια συγκεκριμένη κλάση, κάνουμε ένα σταθμισμένο άθροισμα των εντάσεων των pixels. Το βάρος είναι αρνητικό εάν το pixel που έχει υψηλή ένταση είναι διάφορο από την εικόνα που βρίσκεται σε αυτή την κατηγορία και θετικό αν ύπάρχουν αποδεικτικά στοιχεία ότι ταιρίαζει."
   ]
  },
  {
   "cell_type": "code",
   "execution_count": 28,
   "metadata": {
    "slideshow": {
     "slide_type": "slide"
    }
   },
   "outputs": [
    {
     "name": "stdout",
     "output_type": "stream",
     "text": [
      "Extracting MNIST_data\\train-images-idx3-ubyte.gz\n",
      "Extracting MNIST_data\\train-labels-idx1-ubyte.gz\n",
      "Extracting MNIST_data\\t10k-images-idx3-ubyte.gz\n",
      "Extracting MNIST_data\\t10k-labels-idx1-ubyte.gz\n",
      "Start learning at 2018-01-25 23:05:07.389714\n",
      "Stop learning 2018-01-25 23:05:08.655339\n",
      "Elapsed learning 0:00:01.265625\n",
      "Accuracy is:  0.9193\n"
     ]
    }
   ],
   "source": [
    "from __future__ import absolute_import \n",
    "from __future__ import division \n",
    "from __future__ import print_function\n",
    "\n",
    "import argparse\n",
    "import sys\n",
    "\n",
    "from tensorflow.examples.tutorials.mnist import input_data #Loads MNIST data\n",
    "#mnist is a lightweight class that stores the training, validation and testing, sets as NumPy arrays\n",
    "#Also provides a function for iterating through data minibatches\n",
    "mnist = input_data.read_data_sets('MNIST_data', one_hot = True)\n",
    "\n",
    "import tensorflow as tf\n",
    "sess = tf.InteractiveSession() \n",
    "# αυτό το session κάνει το tensorflow πιο ευέλικτο ως προς το hw επειδή κώδικας είναι δομημένος\n",
    "#επιτρέπει να μεταβάλονται οι λειτουργίες που κατασκευάζουν το γράφημα με αυτές που εκτελούνται i\n",
    "\n",
    "## BUILDING A SOFTMAX REGRESSION MODEL\n",
    "\n",
    "# PLACEHOLDERS\n",
    "# building computation graph by creating nodes for input images and target output classes\n",
    "# Placeholders are a value that we will input when we ask tf to run a computation\n",
    "# Input image x will consist a 2d tensor of floating point numbers, and we will assign it a shape of [None, 784]\n",
    "# where 784 is the dimensionality of a single flattened 28 by 28 pixel MNIST image, None indicates that the first \n",
    "# dimension, corrosponding to the batch size, can be of any size\n",
    "\n",
    "# The target output classes y_ will also consist a 2d tensor, each row is a one-hot 10-dim vector indicating which\n",
    "# digit class (0-9) the corrosponding MNIST image belongs in \n",
    "# Shape argument is optional but helps TF to catch bugs stemming from inconsistent tensor shapes\n",
    "\n",
    "x = tf.placeholder(tf.float32, shape = [None, 784])\n",
    "y_ = tf.placeholder(tf.float32, shape = [None, 10])\n",
    "\n",
    "# VARIABLES\n",
    "# A value that lives in TF's computation graph. It can be used and modified by computation\n",
    "# defining weights W and biases b for the model. These can be treated like additional inputs\n",
    "# initailize both as tensors full of zeros\n",
    "# W is a 784 x 10 matrix --> 784 input features and 10 outputs\n",
    "# b is a 10d vector\n",
    "\n",
    "W = tf.Variable(tf.zeros([784,10]))\n",
    "b = tf.Variable(tf.zeros([10]))\n",
    "\n",
    "start_time = dt.datetime.now()\n",
    "print('Start learning at {}'.format(str(start_time)))\n",
    "\n",
    "# Here we initialize the variables using this session\n",
    "sess.run(tf.global_variables_initializer())\n",
    "\n",
    "# PREDICTED CLASS AND LOSS FUNCTION\n",
    "# Regression model can now be implemented in one line! We multiply the vectorized input images  by the weight W and add b\n",
    "\n",
    "y = tf.matmul(x,W) + b\n",
    "\n",
    "# Now to specify the loss function. Loss indicates how bad the model's prediction was on a single example\n",
    "# The goal is to ofcourse minimize that while training across all the examples\n",
    "# Loss function here is the cross entropy bw the target and the softmax activation function applied\n",
    "# to the model's prediction\n",
    "# tf.nn.softmax_cross_entropy_with_logits internally applies softmax on the model's unnormalized\n",
    "# model prediction and sums across all classes, and tf.reduce_mean takes the average sums across all classes\n",
    "# tf.reduce_mean takes the average over these sums\n",
    "\n",
    "cross_entropy = tf.reduce_mean(\n",
    "  tf.nn.softmax_cross_entropy_with_logits(labels=y_, logits=y))\n",
    "\n",
    "## TRAIN THE MODEL\n",
    "\n",
    "# TF will use automatic differentiation to find the gradients of the loss wrt each of the variables\n",
    "# TF has a bunch of built in optimization algorithms to achieve this\n",
    "# here I will use steepest gradient descent, w a step length of 0.5, to decend the cross entropy\n",
    "# TF will add new operations to the computation through this one line\n",
    "# these include ones to compute gradients, compute parameter update steps and apply update steps to parameters\n",
    "train_step = tf.train.GradientDescentOptimizer(0.5).minimize(cross_entropy)\n",
    "\n",
    "# when train_step is returned above, it can apply gradient decent updates to parameters. So the model can \n",
    "# be trained by repeatedly using train_step\n",
    "\n",
    "for _ in range (1000):\n",
    " batch = mnist.train.next_batch(100)\n",
    " train_step.run(feed_dict = {x:batch[0], y_:batch[1]})\n",
    "\n",
    "# Above I am loading 100 training examples in each training interation. I then run the training_step operation\n",
    "# using feed_dict to replace the placeholder tensors x and y_ with training examples\n",
    "# Note: Any tensor in the graph can be replaced using feed_dict - not just placeholders\n",
    "\n",
    "## MODEL EVALUATION\n",
    "\n",
    "# First things first, we will figure out where we predicted the correct label\n",
    "# tf.argmax is useful as it gives the index of the highest entry in a tensor along some axis\n",
    "# For example, tf.argmax(y,1) is the label our model thinks is most likely for each input\n",
    "# while tf.argmax(y_,1) is the true label. We can use tf.equal to check if our\n",
    "# prediction matches the truth.\n",
    "\n",
    "correct_prediction = tf.equal(tf.argmax(y,1), tf.argmax(y_,1))\n",
    "\n",
    "# this will give us a list of booleans, to determine the correct fraction we cast to \n",
    "# floating point numbers and then take the mean\n",
    "# For instance: [True, False, True, True] would become [1,0,1,1] which would become 0.75\n",
    "\n",
    "accuracy = tf.reduce_mean(tf.cast(correct_prediction, tf.float32))\n",
    "\n",
    "end_time = dt.datetime.now() \n",
    "print('Stop learning {}'.format(str(end_time)))\n",
    "elapsed_time= end_time - start_time\n",
    "print('Elapsed learning {}'.format(str(elapsed_time)))\n",
    "\n",
    "# finally evaluating the accuracy on test data\n",
    "\n",
    "print ('Accuracy is: ', accuracy.eval(feed_dict = {x: mnist.test.images, y_: mnist.test.labels}))"
   ]
  },
  {
   "cell_type": "markdown",
   "metadata": {},
   "source": [
    "# Παρατηρήσεις"
   ]
  },
  {
   "cell_type": "markdown",
   "metadata": {
    "collapsed": true,
    "slideshow": {
     "slide_type": "slide"
    }
   },
   "source": [
    "\n",
    "\n",
    "1) Απαιτούμενος χρόνος για:    \n",
    "α. την εφαρμογή του decision tree t = 11.593750 sec  \n",
    "β. την εφαρμογή των random forests t = 3.437500 sec  \n",
    "γ. την εφαρμογή του logistic regression t = 62.171875 sec  \n",
    "δ. την εφαρμογή του support vector t = None\n",
    "ε. την εφαρμογή του softmax regression t = 1.265625 sec  \n",
    "\n",
    "Παρατηρούμε πως πιο γρήγορος αλγόριθμος για το classification 60.000 εικόνων με ψηφία είναι τo softmax regression. Το decision tree επίσης παράγει αποτελέσματα σε αμεληταίο χρόνο.\n",
    "Όσον αφορά το  logistic regression , απ' τις μετρήσεις φαίνεται πως απαιτεί αρκετά περισσοτερο χρόνο επειδή χρησιμοποιεί όλα τα δεδομένα για να παράγει τα αποτελέσματά του. Αυτό τον καθιστά ακατάλληλο για μεγάλα data sets.\n",
    "\n",
    "\n",
    "\n"
   ]
  },
  {
   "cell_type": "markdown",
   "metadata": {
    "slideshow": {
     "slide_type": "slide"
    }
   },
   "source": [
    "2) Το ποσοστό ακρίβειας για:  \n",
    "α. την εφαρμογή του decision tree Accuracy Score: 88.3%  \n",
    "β. την εφαρμογή των random forests Accuracy Score: 94.6%  \n",
    "γ. την εφαρμογή του logistic regression Accuracy Score: 91.7%  \n",
    "δ. την εφαρμογή του support vector Accuracy Score: None\n",
    "ε. την εφαρμογή του softmax regression Accuracy Score: 91.9%  \n",
    "\n",
    "\n",
    "Το μεγαλύτερο πρόβλημα που σχετίζεται με τα decision trees είναι ότι αποτελούν αρκετά μεροληπτικά μοντέλα. Μπορούμε να δημιουργήσουμε ένα decision tree model στο training set μας το οποίο θα ξεπεράσει όλους τους άλλους αλγόριθμους, αλλά θα αποδειχθεί ότι είναι ένας κακός προγνωστικός παράγοντας στο test set μας. Αυτό προκαλείται λόγο του over fitting.\n",
    "Over fitting συμβαίνει όταν το δέντρο σχεδιάζεται έτσι ώστε να ταιριάζει απόλυτα σε όλα τα δείγματα στο train set. Έτσι καταλήγει σε κλάδους με αυστηρούς κανόνες αραιών δεδομένων. Aυτό επηρεάζει την ακρίβεια κατά την πρόβλεψη δειγμάτων που δεν αποτελούν μέρος του train set.\n",
    "\n",
    "Το πρόβλημα του over fitting υπερνικάται σε μεγάλο βαθμό με τη χρήση random forests, τα οποία δεν είναι παρά μια πολύ έξυπνη επέκταση των decision trees.\n"
   ]
  },
  {
   "cell_type": "markdown",
   "metadata": {
    "slideshow": {
     "slide_type": "slide"
    }
   },
   "source": [
    "\n",
    "3) Σημασία ακρίβειας \n",
    "Στις μεθοδους random forests και logistic regression οπου βλέπουμε το ποσοστό ακρίβειας να ανεβαίνει μπορούμε να δουμε απο τον confusion matrix ότι η πιθανοτητα να εχω μπερδεψει ενα ψηφίο με κάποια απο τα υπόλοιπα 9 εξαλείφεται έτσι σε περίπτωση λάθους μπόρω πιο εύκολα να μελετήσω τα δεδομένα μου ωστέ να βρω μέσω του συλλογισμού μου ποιο είναι το σωστό.\n",
    "\n"
   ]
  },
  {
   "cell_type": "markdown",
   "metadata": {
    "collapsed": true,
    "slideshow": {
     "slide_type": "slide"
    }
   },
   "source": [
    "4) Η εφαρμογή του C-SUPPORT VECTOR CLASSIFICATION δεν ήταν δυνατή γιατί το μοντέλο δεν είναι πολύ αποτελεσματικό με μεγάλο αριθμό παρατηρήσεων.  \n",
    "Επιπλέον μπορεί να μην χρησιμοποιήθηκε ο κατάλληλος πυρήνας. Με τους μη γραμμικούς πυρήνες, τα SVM μπορούν να είναι πολύ δαπανηρά για να εκπαιδεύσουντεράστια δεδομένα.(Δεν κατάφερε να τρέξει compile σε διαρκεια 1 ώρας επομένως θεωρήθηκε ακατάλληλο μοντέλο για τα συγκεκριμένα δεδομένα)\n"
   ]
  }
 ],
 "metadata": {
  "celltoolbar": "Slideshow",
  "kernelspec": {
   "display_name": "Python 3",
   "language": "python",
   "name": "python3"
  },
  "language_info": {
   "codemirror_mode": {
    "name": "ipython",
    "version": 3
   },
   "file_extension": ".py",
   "mimetype": "text/x-python",
   "name": "python",
   "nbconvert_exporter": "python",
   "pygments_lexer": "ipython3",
   "version": "3.6.2"
  }
 },
 "nbformat": 4,
 "nbformat_minor": 2
}
